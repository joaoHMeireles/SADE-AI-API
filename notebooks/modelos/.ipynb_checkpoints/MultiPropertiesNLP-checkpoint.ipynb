{
 "cells": [
  {
   "cell_type": "markdown",
   "id": "f81cbb2b-4d77-4241-a3fe-22e11428109d",
   "metadata": {},
   "source": [
    "Coloca aqui depois as especificações desse modelo aqui,  jóia?"
   ]
  },
  {
   "cell_type": "code",
   "execution_count": null,
   "id": "b854aca9-10d5-4437-8c63-867ddb923699",
   "metadata": {},
   "outputs": [],
   "source": []
  },
  {
   "cell_type": "code",
   "execution_count": null,
   "id": "e8ebc739-18d5-45d5-a78d-63ac2a35ffad",
   "metadata": {},
   "outputs": [],
   "source": []
  }
 ],
 "metadata": {
  "kernelspec": {
   "display_name": "Python 3 (ipykernel)",
   "language": "python",
   "name": "python3"
  },
  "language_info": {
   "codemirror_mode": {
    "name": "ipython",
    "version": 3
   },
   "file_extension": ".py",
   "mimetype": "text/x-python",
   "name": "python",
   "nbconvert_exporter": "python",
   "pygments_lexer": "ipython3",
   "version": "3.10.9"
  }
 },
 "nbformat": 4,
 "nbformat_minor": 5
}
